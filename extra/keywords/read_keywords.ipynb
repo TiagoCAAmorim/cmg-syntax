{
 "cells": [
  {
   "cell_type": "markdown",
   "metadata": {},
   "source": [
    "# Build Keyword Lists"
   ]
  },
  {
   "cell_type": "markdown",
   "metadata": {},
   "source": [
    "## Description\n",
    "\n",
    "* Read CMG keywords\n",
    "    * Extract from 2022.10 manuals  \n",
    "    * Search in the \\Data\\Index_Chunk0.js files (0 to 9)\n",
    "        * Regex:\n",
    "\n",
    "        `'([^']+)':\\{l:\\[\\{u:'([^']+)',t:'([^']+')`\n",
    "        \n",
    "        * First group: keyword.\n",
    "            * Add to keyword list.\n",
    "        * Second group: htm file with full description.\n",
    "            * Ignore anything including and after '#' and read file.\n",
    "            * Search all keywords and options inside file:\n",
    "\n",
    "            `(<td>|<dt>|<tr>|<p>|\\| |, |; )\\(?<span class=\"keyword\">[^*]*\\*([^<]+)</span>`\n",
    "        \n",
    "            * Ignore any keyword that is found in the short description, add all others as options.\n",
    "        * Third group: short description, with all keywords described in the htm file\n",
    "            * Extract all associated keywords to be used in options search.\n",
    "        \n",
    "            `\\*([0-9a-z-_]+)`\n",
    "\n",
    "* Compile sets with keywords and options.\n",
    "* Write lines in the VsCode language syntax.\n",
    "    * Keywords are divided by first letter to reduce size of line in json file."
   ]
  },
  {
   "cell_type": "markdown",
   "metadata": {},
   "source": [
    "## Requirements"
   ]
  },
  {
   "cell_type": "code",
   "execution_count": 6,
   "metadata": {},
   "outputs": [],
   "source": [
    "from pathlib import Path\n",
    "import re"
   ]
  },
  {
   "cell_type": "code",
   "execution_count": 85,
   "metadata": {},
   "outputs": [],
   "source": [
    "with open(r'../../../common_folder.txt', 'r', encoding='utf-8') as f:\n",
    "    common_folder = Path(f.readline().strip()) \n",
    "simulators = {'GEM', 'IMEX', 'STARS'}\n",
    "output_keywords = 'keywords.txt'\n",
    "output_options = 'options.txt'"
   ]
  },
  {
   "cell_type": "markdown",
   "metadata": {},
   "source": [
    "## Common Functions"
   ]
  },
  {
   "cell_type": "code",
   "execution_count": 63,
   "metadata": {},
   "outputs": [],
   "source": [
    "def write_set_to_text_file(file_path, input_set):\n",
    "    file_path = Path(file_path)\n",
    "    try:\n",
    "        content = '\\n'.join(map(str, input_set))\n",
    "        file_path.write_text(data=content, encoding='utf-8')\n",
    "        # print(f\"Set has been written to '{file_path}'.\")\n",
    "    except Exception as e:\n",
    "        print(f\"An error occurred while writing to '{file_path}': {e}\")\n",
    "\n",
    "def read_text_file(file_path):\n",
    "    file_path = Path(file_path)\n",
    "    try:\n",
    "        content = file_path.read_text(encoding='utf-8')\n",
    "        return content\n",
    "    except FileNotFoundError:\n",
    "        print(f\"File '{file_path}' not found.\")\n",
    "        return None\n",
    "    \n",
    "def read_file_into_set(file_path):\n",
    "    content = read_text_file(file_path)\n",
    "    if content is not None:\n",
    "        return content.split('\\n')\n",
    "    else:\n",
    "        return set()"
   ]
  },
  {
   "cell_type": "markdown",
   "metadata": {},
   "source": [
    "## Parse Files"
   ]
  },
  {
   "cell_type": "code",
   "execution_count": 100,
   "metadata": {},
   "outputs": [],
   "source": [
    "def find_index_files(folder_path):\n",
    "    files = []\n",
    "    for file_path in folder_path.rglob('Index_Chunk*.js'):\n",
    "        if file_path.is_file():\n",
    "            files.append(file_path)\n",
    "    return files\n",
    "\n",
    "def parse_description_file(file_path, keywords):\n",
    "    content = read_text_file(file_path)\n",
    "    matches = re.findall(r'(<td>|<dt>|<tr>|<p>|\\| |, |; )\\(?<span class=\"keyword\">[^*]*\\*([^<]+)</span>', content)\n",
    "\n",
    "    options = set()\n",
    "    for match in matches:\n",
    "        if match[1] not in keywords:\n",
    "            if not match[1].isdigit():\n",
    "                options.add(match[1])\n",
    "    return options\n",
    "\n",
    "def parse_index_file(file_path):\n",
    "    content = read_text_file(file_path)\n",
    "    matches = re.findall(r\"'([^']+)':\\{l:\\[\\{u:'([^']+)',t:'([^']+')\", content)\n",
    "\n",
    "    data = dict()\n",
    "    for match in matches:\n",
    "        file = match[1].split('#')[0]\n",
    "        description = match[2].split(' *')[0]\n",
    "        keywords = [x[0] for x in re.findall(r\"\\*((\\w|-)+)\", match[2])]\n",
    "        htm_file = Path(str(file_path.parent.parent) + file)\n",
    "        options = parse_description_file(htm_file, keywords)\n",
    "        data[match[0]] = {'file': file, 'description':description, 'keywords':keywords, 'options':options}\n",
    "    return data\n",
    "\n",
    "def read_index(folder):\n",
    "    print(f'Reading {folder}')\n",
    "    index_files = find_index_files(folder)\n",
    "    print(f'  Found {len(index_files)} index files')\n",
    "    data = dict()\n",
    "    for index_file in index_files:\n",
    "        data.update(parse_index_file(index_file))\n",
    "    print(f'  {len(data)} keywords found.')\n",
    "    # write_set_to_text_file('test.txt', sorted(keywords.keys()))\n",
    "    return data"
   ]
  },
  {
   "cell_type": "code",
   "execution_count": 101,
   "metadata": {},
   "outputs": [
    {
     "name": "stdout",
     "output_type": "stream",
     "text": [
      "Reading C:\\Users\\tiago.LENOVO-I7\\Unicamp\\Documentos\\05.Livros\\Manuais\\CMG\\GEM\n",
      "  Found 10 index files\n",
      "  1223 keywords found.\n",
      "Reading C:\\Users\\tiago.LENOVO-I7\\Unicamp\\Documentos\\05.Livros\\Manuais\\CMG\\IMEX\n",
      "  Found 7 index files\n",
      "  1038 keywords found.\n",
      "Reading C:\\Users\\tiago.LENOVO-I7\\Unicamp\\Documentos\\05.Livros\\Manuais\\CMG\\STARS\n",
      "  Found 9 index files\n",
      "  1253 keywords found.\n"
     ]
    }
   ],
   "source": [
    "data = dict()\n",
    "for simulator in simulators:\n",
    "    data[simulator] = read_index(common_folder / simulator)"
   ]
  },
  {
   "cell_type": "markdown",
   "metadata": {},
   "source": [
    "## Create Lists"
   ]
  },
  {
   "cell_type": "code",
   "execution_count": 102,
   "metadata": {},
   "outputs": [
    {
     "name": "stdout",
     "output_type": "stream",
     "text": [
      "ALL\t1935 keywords\n",
      "GEM\t1223 keywords\n",
      "IMEX\t1038 keywords\n",
      "STARS\t1253 keywords\n",
      "\n",
      "ALL\t2108 options\n",
      "GEM\t1227 options\n",
      "IMEX\t1248 options\n",
      "STARS\t1065 options\n"
     ]
    }
   ],
   "source": [
    "keywords = dict()\n",
    "\n",
    "keywords['ALL'] = set()\n",
    "for simulator in simulators:\n",
    "    keywords[simulator] = set(data[simulator].keys())\n",
    "    keywords['ALL'] = keywords['ALL'].union(keywords[simulator])\n",
    "\n",
    "for simulator,keyword_set in keywords.items():\n",
    "    print(f'{simulator}\\t{len(keyword_set)} keywords')\n",
    "\n",
    "print('')\n",
    "\n",
    "options = dict()\n",
    "\n",
    "options['ALL'] = set()\n",
    "for simulator in simulators:\n",
    "    options[simulator] = set()\n",
    "    for opts in data[simulator].values():\n",
    "        options[simulator] = options[simulator].union(opts['options'])\n",
    "    options['ALL'] = options['ALL'].union(options[simulator])\n",
    "\n",
    "for simulator,options_set in options.items():\n",
    "    print(f'{simulator}\\t{len(options_set)} options')"
   ]
  },
  {
   "cell_type": "markdown",
   "metadata": {},
   "source": [
    "## Write files"
   ]
  },
  {
   "cell_type": "code",
   "execution_count": 113,
   "metadata": {},
   "outputs": [],
   "source": [
    "def subsets_by_first_char(input_set):\n",
    "    subsets = {}\n",
    "    for item in input_set:\n",
    "        first_char = item[0]\n",
    "        if first_char not in subsets:\n",
    "            subsets[first_char] = set()\n",
    "        subsets[first_char].add(item)\n",
    "    return subsets\n",
    "\n",
    "def output_set(values, file_path):\n",
    "    with open(file_path, 'w') as file:\n",
    "        for simulator,keyword_set in values.items():\n",
    "            file.write(f\"'{simulator}'\\n\")\n",
    "            for sub_keyword_set in subsets_by_first_char(sorted(keyword_set)).values():\n",
    "                file.write('\\t\\t\\t\\t},{\\n')\n",
    "                file.write('\\t\\t\\t\\t\\t\"name\": \"entity.name.function\",\\n')\t\n",
    "                set_str = '|'.join(map(str, sorted(sub_keyword_set))).replace('-/+','(-|+)').replace('+','\\\\\\\\+')\n",
    "                file.write(f'\\t\\t\\t\\t\\t\"match\": \"^\\\\\\\\s*\\\\\\\\*?({set_str})(?=(\\\\\\\\s|$))\"\\n')\n",
    "            file.write('\\n')"
   ]
  },
  {
   "cell_type": "code",
   "execution_count": 114,
   "metadata": {},
   "outputs": [],
   "source": [
    "output_set(keywords, output_keywords)\n",
    "output_set(options, output_options)"
   ]
  }
 ],
 "metadata": {
  "kernelspec": {
   "display_name": "Python 3",
   "language": "python",
   "name": "python3"
  },
  "language_info": {
   "codemirror_mode": {
    "name": "ipython",
    "version": 3
   },
   "file_extension": ".py",
   "mimetype": "text/x-python",
   "name": "python",
   "nbconvert_exporter": "python",
   "pygments_lexer": "ipython3",
   "version": "3.12.1"
  }
 },
 "nbformat": 4,
 "nbformat_minor": 2
}

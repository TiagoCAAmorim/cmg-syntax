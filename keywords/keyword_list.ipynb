{
 "cells": [
  {
   "cell_type": "markdown",
   "metadata": {},
   "source": [
    "* Read lists of CMG keywords (extracted from 2023.10 manuals)\n",
    "* Compile set with keywords:\n",
    "    * By simulator\n",
    "    * All keywords\n",
    "    * Unique per simulator\n",
    "    * Common among at least two simulators\n",
    "    * Common among all simulators\n",
    "* Write lines in the VsCode language syntax.\n",
    "    * Keywords are divided by first letter to reduce size of line in json file."
   ]
  },
  {
   "cell_type": "code",
   "execution_count": 72,
   "metadata": {},
   "outputs": [],
   "source": [
    "filenames = {'GEM':'GEM.txt', 'IMEX':'IMEX.txt', 'STARS':'STARS.txt'}\n",
    "output_filename = 'keywords.txt'"
   ]
  },
  {
   "cell_type": "code",
   "execution_count": 73,
   "metadata": {},
   "outputs": [],
   "source": [
    "keywords = dict()\n",
    "for simulator, filename in filenames.items():\n",
    "    keywords[simulator] = set()\n",
    "    with open(filename, 'r') as file:\n",
    "        for line in file:\n",
    "            keywords[simulator].add(line.strip())"
   ]
  },
  {
   "cell_type": "code",
   "execution_count": 74,
   "metadata": {},
   "outputs": [],
   "source": [
    "pairs = set()\n",
    "for item1 in filenames.keys():\n",
    "    for item2 in filenames.keys():\n",
    "        if item1 != item2:\n",
    "            pairs.add(tuple(sorted((item1, item2))))"
   ]
  },
  {
   "cell_type": "code",
   "execution_count": 75,
   "metadata": {},
   "outputs": [
    {
     "name": "stdout",
     "output_type": "stream",
     "text": [
      "GEM\t1247 keywords\n",
      "IMEX\t1050 keywords\n",
      "STARS\t1276 keywords\n",
      "ALL\t1952 keywords\n",
      "COMMON\t704 keywords\n",
      "Only GEM+STARS\t95 keywords\n",
      "Only GEM+IMEX\t95 keywords\n",
      "Only IMEX+STARS\t23 keywords\n",
      "Only GEM\t353 keywords\n",
      "Only IMEX\t228 keywords\n",
      "Only STARS\t454 keywords\n"
     ]
    }
   ],
   "source": [
    "keywords['ALL'] = set()\n",
    "for simulator in filenames.keys():\n",
    "    keywords['ALL'] = keywords['ALL'].union(keywords[simulator])\n",
    "\n",
    "keywords['COMMON'] = keywords['ALL'].copy()\n",
    "for simulator in filenames.keys():\n",
    "    keywords['COMMON'] = keywords['COMMON'].intersection(keywords[simulator])\n",
    "\n",
    "for pair in pairs:\n",
    "    keywords[f'Only {pair[0]}+{pair[1]}'] = keywords[pair[0]].intersection(keywords[pair[1]]) - keywords['COMMON']\n",
    "\n",
    "for simulator in filenames.keys():\n",
    "    keywords[f'Only {simulator}'] = keywords[simulator]\n",
    "    for simulator2 in filenames.keys():\n",
    "        if simulator != simulator2:\n",
    "            keywords[f'Only {simulator}'] = keywords[f'Only {simulator}'] - keywords[simulator2]\n",
    "\n",
    "for simulator,keyword_set in keywords.items():\n",
    "    print(f'{simulator}\\t{len(keyword_set)} keywords')\n"
   ]
  },
  {
   "cell_type": "code",
   "execution_count": 76,
   "metadata": {},
   "outputs": [],
   "source": [
    "def subsets_by_first_char(input_set):\n",
    "    subsets = {}\n",
    "    for item in input_set:\n",
    "        first_char = item[0]\n",
    "        if first_char not in subsets:\n",
    "            subsets[first_char] = set()\n",
    "        subsets[first_char].add(item)\n",
    "    return subsets"
   ]
  },
  {
   "cell_type": "code",
   "execution_count": 77,
   "metadata": {},
   "outputs": [],
   "source": [
    "with open(output_filename, 'w') as file:\n",
    "    for simulator,keyword_set in keywords.items():\n",
    "        file.write(f\"'{simulator}'\\n\")\n",
    "        for first_char, sub_keyword_set in subsets_by_first_char(sorted(keyword_set)).items():\n",
    "            file.write('\\t\\t\\t\\t},{\\n')\n",
    "            file.write('\\t\\t\\t\\t\\t\"name\": \"entity.name.function\",\\n')\t\n",
    "            set_str = '|'.join(map(str, sorted(sub_keyword_set)))\n",
    "            file.write(f'\\t\\t\\t\\t\\t\"match\": \"^\\\\\\\\s*\\\\\\\\*?({set_str})(?=(\\\\\\\\s|$))\"\\n')\n",
    "        file.write('\\n')"
   ]
  },
  {
   "cell_type": "code",
   "execution_count": null,
   "metadata": {},
   "outputs": [],
   "source": []
  }
 ],
 "metadata": {
  "kernelspec": {
   "display_name": "Python 3",
   "language": "python",
   "name": "python3"
  },
  "language_info": {
   "codemirror_mode": {
    "name": "ipython",
    "version": 3
   },
   "file_extension": ".py",
   "mimetype": "text/x-python",
   "name": "python",
   "nbconvert_exporter": "python",
   "pygments_lexer": "ipython3",
   "version": "3.11.6"
  }
 },
 "nbformat": 4,
 "nbformat_minor": 2
}
